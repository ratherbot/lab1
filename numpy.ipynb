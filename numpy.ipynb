{
 "nbformat": 4,
 "nbformat_minor": 0,
 "metadata": {
  "colab": {
   "provenance": []
  },
  "kernelspec": {
   "name": "python3",
   "display_name": "Python 3 (ipykernel)",
   "language": "python"
  },
  "language_info": {
   "name": "python"
  }
 },
 "cells": [
  {
   "cell_type": "markdown",
   "source": [
    "<h1>Импорт библиотек"
   ],
   "metadata": {
    "id": "vC84e9kzyxPy"
   }
  },
  {
   "cell_type": "code",
   "metadata": {
    "id": "cgKeNegmQG5S",
    "ExecuteTime": {
     "end_time": "2024-10-10T17:27:27.664778Z",
     "start_time": "2024-10-10T17:27:27.661011Z"
    }
   },
   "source": [
    "import numpy as np\n",
    "import matplotlib.pyplot as plt\n",
    "import unittest"
   ],
   "outputs": [],
   "execution_count": 10
  },
  {
   "cell_type": "markdown",
   "source": "<h1>Задача 1. Дан набор из $p$ матриц размерностью $(n, n)$ и $p$ векторов размерностью $(n, 1)$, найти сумму произведений матриц на векторы. Написать тесты для кода",
   "metadata": {
    "id": "qFM9uVU2x4Ls"
   }
  },
  {
   "metadata": {},
   "cell_type": "markdown",
   "source": ""
  },
  {
   "cell_type": "code",
   "source": [
    "def sum_prod(X, V):\n",
    "    if len(X) != len(V):\n",
    "        raise ValueError(\"Количество матриц и векторов должно быть одинаковым.\")\n",
    "    \n",
    "    result = np.zeros_like(V[0])\n",
    "\n",
    "    for i in range(len(X)):\n",
    "        result += np.dot(X[i], V[i]) \n",
    "\n",
    "    return result\n",
    "\n",
    "class TestSumProd(unittest.TestCase):\n",
    "    \n",
    "    def test_simple_case(self):\n",
    "        X = [\n",
    "            np.array([[1, 2], [3, 4]]),\n",
    "            np.array([[5, 6], [7, 8]])\n",
    "        ]\n",
    "        V = [\n",
    "            np.array([[1], [0]]),\n",
    "            np.array([[0], [1]])\n",
    "        ]\n",
    "        result = sum_prod(X, V)\n",
    "        expected_result = np.array([[7], [11]])\n",
    "        np.testing.assert_array_equal(result, expected_result)\n",
    "\n",
    "    def test_single_matrix_vector(self):\n",
    "        X = [np.array([[2, 0], [0, 2]])]\n",
    "        V = [np.array([[1], [1]])]\n",
    "        result = sum_prod(X, V)\n",
    "        expected_result = np.array([[2], [2]])\n",
    "        np.testing.assert_array_equal(result, expected_result)\n",
    "\n",
    "    def test_zero_case(self):\n",
    "        X = [np.array([[0, 0], [0, 0]])]\n",
    "        V = [np.array([[0], [0]])]\n",
    "        result = sum_prod(X, V)\n",
    "        expected_result = np.array([[0], [0]])\n",
    "        np.testing.assert_array_equal(result, expected_result)\n",
    "\n",
    "    def test_incorrect_input(self):\n",
    "        X = [np.array([[1, 2], [3, 4]])]\n",
    "        V = [np.array([[1], [0]]), np.array([[0], [1]])]\n",
    "        with self.assertRaises(ValueError):\n",
    "            sum_prod(X, V)\n",
    "            \n",
    "suite = unittest.TestLoader().loadTestsFromTestCase(TestSumProd)\n",
    "runner = unittest.TextTestRunner()\n",
    "runner.run(suite)"
   ],
   "metadata": {
    "id": "IAbUvEiYyWFF",
    "ExecuteTime": {
     "end_time": "2024-10-10T17:27:29.488888Z",
     "start_time": "2024-10-10T17:27:29.476858Z"
    }
   },
   "outputs": [
    {
     "name": "stderr",
     "output_type": "stream",
     "text": [
      "....\n",
      "----------------------------------------------------------------------\n",
      "Ran 4 tests in 0.003s\n",
      "\n",
      "OK\n"
     ]
    },
    {
     "data": {
      "text/plain": [
       "<unittest.runner.TextTestResult run=4 errors=0 failures=0>"
      ]
     },
     "execution_count": 11,
     "metadata": {},
     "output_type": "execute_result"
    }
   ],
   "execution_count": 11
  },
  {
   "cell_type": "markdown",
   "source": [
    "<h1>Задача 2. Дана матрица M, напишите функцию, которая бинаризует матрицу по некоторому threshold (то есть, все значения большие threshold становятся равными 1, иначе 0). Напишите тесты для кода"
   ],
   "metadata": {
    "id": "TKwPG4fIy2w4"
   }
  },
  {
   "cell_type": "code",
   "source": [
    "def binarize(M, threshold=0.5):\n",
    "    return (M >= threshold).astype(int)\n",
    "\n",
    "class TestBinarize(unittest.TestCase):\n",
    "    def test_default_threshold(self):\n",
    "        M = np.array([[0.2, 0.7], [0.4, 0.9]])\n",
    "        result = binarize(M)\n",
    "        expected_result = np.array([[0, 1], [0, 1]])\n",
    "        np.testing.assert_array_equal(result, expected_result)\n",
    "\n",
    "    def test_custom_threshold(self):\n",
    "        M = np.array([[0.2, 0.7], [0.4, 0.9]])\n",
    "        result = binarize(M, threshold=0.4)\n",
    "        expected_result = np.array([[0, 1], [1, 1]])\n",
    "        np.testing.assert_array_equal(result, expected_result)\n",
    "\n",
    "    def test_all_zeros(self):\n",
    "        M = np.array([[0.1, 0.2], [0.3, 0.4]])\n",
    "        result = binarize(M, threshold=0.5)\n",
    "        expected_result = np.array([[0, 0], [0, 0]])\n",
    "        np.testing.assert_array_equal(result, expected_result)\n",
    "\n",
    "    def test_all_ones(self):\n",
    "        M = np.array([[0.6, 0.7], [0.8, 0.9]])\n",
    "        result = binarize(M, threshold=0.5)\n",
    "        expected_result = np.array([[1, 1], [1, 1]])\n",
    "        np.testing.assert_array_equal(result, expected_result)\n",
    "\n",
    "    def test_empty_matrix(self):\n",
    "        M = np.array([[]])\n",
    "        result = binarize(M)\n",
    "        expected_result = np.array([[]])\n",
    "        np.testing.assert_array_equal(result, expected_result)\n",
    "        \n",
    "suite = unittest.TestLoader().loadTestsFromTestCase(TestBinarize)\n",
    "runner = unittest.TextTestRunner()\n",
    "runner.run(suite)"
   ],
   "metadata": {
    "id": "KQDNMgsjRNH7",
    "ExecuteTime": {
     "end_time": "2024-10-10T17:27:33.666684Z",
     "start_time": "2024-10-10T17:27:33.654675Z"
    }
   },
   "outputs": [
    {
     "name": "stderr",
     "output_type": "stream",
     "text": [
      ".....\n",
      "----------------------------------------------------------------------\n",
      "Ran 5 tests in 0.004s\n",
      "\n",
      "OK\n"
     ]
    },
    {
     "data": {
      "text/plain": [
       "<unittest.runner.TextTestResult run=5 errors=0 failures=0>"
      ]
     },
     "execution_count": 12,
     "metadata": {},
     "output_type": "execute_result"
    }
   ],
   "execution_count": 12
  },
  {
   "cell_type": "markdown",
   "source": [
    "<h1>Задача 3. Напишите функцию, которая возвращает уникальные элементы из каждой строки матрицы. Напишите такую же функцию, но для столбцов. Напишите тесты для кода"
   ],
   "metadata": {
    "id": "IY5L-h-7zWhN"
   }
  },
  {
   "cell_type": "code",
   "source": [
    "def unique_rows(mat):\n",
    "    if mat.size == 0:\n",
    "        return []\n",
    "    return [np.unique(row) for row in mat]\n",
    "\n",
    "def unique_columns(mat):\n",
    "    if mat.size == 0:\n",
    "        return []\n",
    "    return [np.unique(mat[:, col]) for col in range(mat.shape[1])]\n",
    "\n",
    "class TestUniqueFunctions(unittest.TestCase):\n",
    "    def test_unique_rows(self):\n",
    "        mat = np.array([[1, 2, 2], [3, 3, 3], [4, 4, 5]])\n",
    "        result = unique_rows(mat)\n",
    "        expected_result = [np.array([1, 2]), np.array([3]), np.array([4, 5])]\n",
    "        for res, exp in zip(result, expected_result):\n",
    "            np.testing.assert_array_equal(res, exp)\n",
    "\n",
    "    def test_unique_columns(self):\n",
    "        mat = np.array([[1, 2, 2], [1, 3, 3], [4, 4, 5]])\n",
    "        result = unique_columns(mat)\n",
    "        expected_result = [np.array([1, 4]), np.array([2, 3, 4]), np.array([2, 3, 5])]\n",
    "        for res, exp in zip(result, expected_result):\n",
    "            np.testing.assert_array_equal(res, exp)\n",
    "\n",
    "    def test_empty_matrix(self):\n",
    "        mat = np.array([[]])\n",
    "        result_rows = unique_rows(mat)\n",
    "        result_columns = unique_columns(mat)\n",
    "        self.assertEqual(result_rows, [])\n",
    "        self.assertEqual(result_columns, [])\n",
    "\n",
    "suite = unittest.TestLoader().loadTestsFromTestCase(TestUniqueFunctions)\n",
    "runner = unittest.TextTestRunner()\n",
    "runner.run(suite)"
   ],
   "metadata": {
    "id": "-8dEZhR0SBC-",
    "ExecuteTime": {
     "end_time": "2024-10-10T17:29:16.462025Z",
     "start_time": "2024-10-10T17:29:16.450658Z"
    }
   },
   "outputs": [
    {
     "name": "stderr",
     "output_type": "stream",
     "text": [
      "...\n",
      "----------------------------------------------------------------------\n",
      "Ran 3 tests in 0.003s\n",
      "\n",
      "OK\n"
     ]
    },
    {
     "data": {
      "text/plain": [
       "<unittest.runner.TextTestResult run=3 errors=0 failures=0>"
      ]
     },
     "execution_count": 15,
     "metadata": {},
     "output_type": "execute_result"
    }
   ],
   "execution_count": 15
  },
  {
   "cell_type": "markdown",
   "source": [
    "<h1>Задача 4. Напишите функцию, которая заполняет матрицу с размерами $(m, n)$ случайными числами, распределенными по нормальному закону. Затем считает мат. ожидание и дисперсию для каждого из столбцов и строк, а также строит для каждой строки и столбца гистограмму значений (использовать функцию hist из модуля matplotlib.plot)"
   ],
   "metadata": {
    "id": "roYAlo4Jz-lH"
   }
  },
  {
   "cell_type": "code",
   "source": [
    "def analyze_matrix(m, n):\n",
    "    matrix = np.random.randn(m, n)\n",
    "    row_means = np.mean(matrix, axis=1)\n",
    "    row_vars = np.var(matrix, axis=1)\n",
    "    col_means = np.mean(matrix, axis=0)\n",
    "    col_vars = np.var(matrix, axis=0)\n",
    "    \n",
    "    print(\"Математическое ожидание для строк:\", row_means)\n",
    "    print(\"Дисперсия для строк:\", row_vars)\n",
    "    print(\"Математическое ожидание для столбцов:\", col_means)\n",
    "    print(\"Дисперсия для столбцов:\", col_vars)\n",
    "\n",
    "    for i in range(m):\n",
    "        plt.figure(figsize=(5, 3))\n",
    "        plt.hist(matrix[i, :], bins=10, alpha=0.75, color='blue')\n",
    "        plt.title(f'Гистограмма для строки {i+1}')\n",
    "        plt.xlabel('Значения')\n",
    "        plt.ylabel('Частота')\n",
    "        plt.show()\n",
    "\n",
    "    for j in range(n):\n",
    "        plt.figure(figsize=(5, 3))\n",
    "        plt.hist(matrix[:, j], bins=10, alpha=0.75, color='green')\n",
    "        plt.title(f'Гистограмма для столбца {j+1}')\n",
    "        plt.xlabel('Значения')\n",
    "        plt.ylabel('Частота')\n",
    "        plt.show()"
   ],
   "metadata": {
    "id": "nZK_71hMSQzv",
    "ExecuteTime": {
     "end_time": "2024-10-10T17:33:05.769433Z",
     "start_time": "2024-10-10T17:33:05.764009Z"
    }
   },
   "outputs": [],
   "execution_count": 18
  },
  {
   "cell_type": "markdown",
   "source": [
    "<h1>Задача 5. Напишите функцию, которая заполняет матрицу $(m, n)$ в шахматном порядке заданными числами $a$ и $b$. Напишите тесты для кода"
   ],
   "metadata": {
    "id": "BDyATNdM0dJ2"
   }
  },
  {
   "cell_type": "code",
   "source": [
    "def chess(m, n, a, b):\n",
    "    matrix = np.zeros((m, n), dtype=int)\n",
    "    \n",
    "    for i in range(m):\n",
    "        for j in range(n):\n",
    "            if (i + j) % 2 == 0:\n",
    "                matrix[i, j] = a\n",
    "            else:\n",
    "                matrix[i, j] = b\n",
    "    \n",
    "    return matrix\n",
    "\n",
    "class TestChessMatrix(unittest.TestCase):\n",
    "    def test_3x3(self):\n",
    "        result = chess(3, 3, 1, 0)\n",
    "        expected_result = np.array([[1, 0, 1], [0, 1, 0], [1, 0, 1]])\n",
    "        np.testing.assert_array_equal(result, expected_result)\n",
    "\n",
    "    def test_2x4(self):\n",
    "        result = chess(2, 4, 2, 3)\n",
    "        expected_result = np.array([[2, 3, 2, 3], [3, 2, 3, 2]])\n",
    "        np.testing.assert_array_equal(result, expected_result)\n",
    "\n",
    "    def test_1x1(self):\n",
    "        result = chess(1, 1, 5, 8)\n",
    "        expected_result = np.array([[5]])\n",
    "        np.testing.assert_array_equal(result, expected_result)\n",
    "\n",
    "    def test_4x4(self):\n",
    "        result = chess(4, 4, 7, 9)\n",
    "        expected_result = np.array([[7, 9, 7, 9], [9, 7, 9, 7], [7, 9, 7, 9], [9, 7, 9, 7]])\n",
    "        np.testing.assert_array_equal(result, expected_result)\n",
    "\n",
    "    def test_0x0(self):\n",
    "        result = chess(0, 0, 1, 0)\n",
    "        expected_result = np.empty((0, 0), dtype=int)\n",
    "        np.testing.assert_array_equal(result, expected_result)\n",
    "        \n",
    "suite = unittest.TestLoader().loadTestsFromTestCase(TestChessMatrix)\n",
    "runner = unittest.TextTestRunner()\n",
    "runner.run(suite)"
   ],
   "metadata": {
    "id": "RWNJYWQGecS6",
    "ExecuteTime": {
     "end_time": "2024-10-10T17:36:35.907946Z",
     "start_time": "2024-10-10T17:36:35.893625Z"
    }
   },
   "outputs": [
    {
     "name": "stderr",
     "output_type": "stream",
     "text": [
      ".....\n",
      "----------------------------------------------------------------------\n",
      "Ran 5 tests in 0.004s\n",
      "\n",
      "OK\n"
     ]
    },
    {
     "data": {
      "text/plain": [
       "<unittest.runner.TextTestResult run=5 errors=0 failures=0>"
      ]
     },
     "execution_count": 20,
     "metadata": {},
     "output_type": "execute_result"
    }
   ],
   "execution_count": 20
  },
  {
   "cell_type": "markdown",
   "source": [
    "<h1>Задача 6. Напишите функцию, которая отрисовывает прямоугольник с заданными размерами (a, b) на изображении размера (m, n), цвет фона задайте в схеме RGB, как и цвет прямоугольника. Цвета также должны быть параметрами функции. Напишите аналогичную функцию но для овала с полуосями a и b. Напишите тесты для кода.\n",
    "Примечание: уравнение эллипса (границы овала) можно записать как:\n",
    "<h1>$\\frac{(x-x_0)^2}{a^2}+\\frac{(y-y_0)^2}{b^2}=1$"
   ],
   "metadata": {
    "id": "-ymXLtTN0vB6"
   }
  },
  {
   "cell_type": "code",
   "source": [
    "from matplotlib.patches import Rectangle, Ellipse\n",
    "\n",
    "\n",
    "def draw_rectangle(a, b, m, n, rectangle_color, background_color):\n",
    "    image = np.ones((m, n, 3), dtype=np.float32) * np.array(background_color)\n",
    "    fig, ax = plt.subplots()\n",
    "    ax.imshow(image)\n",
    "    rect = Rectangle(((n - b) // 2, (m - a) // 2), b, a, linewidth=1, edgecolor='none', facecolor=rectangle_color)\n",
    "    ax.add_patch(rect)\n",
    "    ax.axis('off')\n",
    "    plt.show()\n",
    "\n",
    "def draw_ellipse(a, b, m, n, ellipse_color, background_color):\n",
    "    image = np.ones((m, n, 3), dtype=np.float32) * np.array(background_color)\n",
    "    fig, ax = plt.subplots()\n",
    "    ax.imshow(image)\n",
    "    ellipse = Ellipse((n // 2, m // 2), b * 2, a * 2, linewidth=1, edgecolor='none', facecolor=ellipse_color)\n",
    "    ax.add_patch(ellipse)\n",
    "    ax.axis('off')\n",
    "    plt.show()\n",
    "    \n",
    "class TestDrawFunctions(unittest.TestCase):  \n",
    "    def test_rectangle(self):\n",
    "        try:\n",
    "            draw_rectangle(50, 100, 200, 200, rectangle_color=(0, 0, 1), background_color=(1, 1, 1))\n",
    "        except Exception as e:\n",
    "            self.fail(f\"Отрисовка прямоугольника вызвала ошибку: {e}\")\n",
    "    \n",
    "    def test_ellipse(self):\n",
    "        try:\n",
    "            draw_ellipse(50, 100, 200, 200, ellipse_color=(1, 0, 0), background_color=(0.8, 0.8, 0.8))\n",
    "        except Exception as e:\n",
    "            self.fail(f\"Отрисовка эллипса вызвала ошибку: {e}\")\n",
    "            \n",
    "suite = unittest.TestLoader().loadTestsFromTestCase(TestDrawFunctions)\n",
    "runner = unittest.TextTestRunner()\n",
    "runner.run(suite)"
   ],
   "metadata": {
    "id": "sNfl1t_kfOF4",
    "ExecuteTime": {
     "end_time": "2024-10-10T17:41:17.435399Z",
     "start_time": "2024-10-10T17:41:17.359824Z"
    }
   },
   "outputs": [
    {
     "data": {
      "text/plain": [
       "<Figure size 640x480 with 1 Axes>"
      ],
      "image/png": "[encoded data removed]"
     },
     "metadata": {},
     "output_type": "display_data"
    },
    {
     "name": "stderr",
     "output_type": "stream",
     "text": [
      "."
     ]
    },
    {
     "data": {
      "text/plain": [
       "<Figure size 640x480 with 1 Axes>"
      ],
      "image/png": "[encoded data removed]"
     },
     "metadata": {},
     "output_type": "display_data"
    },
    {
     "name": "stderr",
     "output_type": "stream",
     "text": [
      ".\n",
      "----------------------------------------------------------------------\n",
      "Ran 2 tests in 0.065s\n",
      "\n",
      "OK\n"
     ]
    },
    {
     "data": {
      "text/plain": [
       "<unittest.runner.TextTestResult run=2 errors=0 failures=0>"
      ]
     },
     "execution_count": 23,
     "metadata": {},
     "output_type": "execute_result"
    }
   ],
   "execution_count": 23
  },
  {
   "cell_type": "markdown",
   "source": [
    "<h1>Задача 7. Дан некий временной ряд. Для данного ряда нужно найти его: математическое ожидание, дисперсию, СКО, найти все локальные максимумы и минимумы (локальный максимум - это точка, которая больше своих соседних точек, а локальный минимум - это точка, которая меньше своих соседей), а также вычислить для данного ряда другой ряд, получаемый методом скользящего среднего с размером окна $p$.\n",
    "<h1>Примечание: метод скользящего среднего подразумевает нахождение среднего из подмножетсва ряда размером $p$"
   ],
   "metadata": {
    "id": "S82c38oz244H"
   }
  },
  {
   "cell_type": "code",
   "source": [
    "def analyze_time_series(time_series, p):\n",
    "    time_series = np.array(time_series)\n",
    "    mean = np.mean(time_series)\n",
    "    variance = np.var(time_series)\n",
    "    std_dev = np.std(time_series)\n",
    "    \n",
    "    local_maxima = (time_series[1:-1] > time_series[:-2]) & (time_series[1:-1] > time_series[2:])\n",
    "    local_minima = (time_series[1:-1] < time_series[:-2]) & (time_series[1:-1] < time_series[2:])\n",
    "    local_maxima_indices = np.where(local_maxima)[0] + 1\n",
    "    local_minima_indices = np.where(local_minima)[0] + 1\n",
    "    \n",
    "    moving_average = np.convolve(time_series, np.ones(p) / p, mode='valid')\n",
    "    \n",
    "    results = {\n",
    "        'mean': mean,\n",
    "        'variance': variance,\n",
    "        'std_dev': std_dev,\n",
    "        'local_maxima_indices': local_maxima_indices,\n",
    "        'local_maxima_values': time_series[local_maxima_indices],\n",
    "        'local_minima_indices': local_minima_indices,\n",
    "        'local_minima_values': time_series[local_minima_indices],\n",
    "        'moving_average': moving_average\n",
    "    }\n",
    "\n",
    "    print(f\"Математическое ожидание: {mean}\")\n",
    "    print(f\"Дисперсия: {variance}\")\n",
    "    print(f\"Стандартное отклонение: {std_dev}\")\n",
    "    print(f\"Локальные максимумы (индексы): {local_maxima_indices}, значения: {time_series[local_maxima_indices]}\")\n",
    "    print(f\"Локальные минимумы (индексы): {local_minima_indices}, значения: {time_series[local_minima_indices]}\")\n",
    "    print(f\"Скользящее среднее: {moving_average}\")\n",
    "\n",
    "    plt.figure(figsize=(12, 6))\n",
    "    plt.plot(time_series, label='Временной ряд', marker='o')\n",
    "    plt.plot(range(p - 1, len(time_series)), moving_average, label='Скользящее среднее', color='orange', marker='x')\n",
    "    plt.scatter(local_maxima_indices, time_series[local_maxima_indices], color='red', label='Локальные максимумы')\n",
    "    plt.scatter(local_minima_indices, time_series[local_minima_indices], color='blue', label='Локальные минимумы')\n",
    "    plt.title('Временной ряд и скользящее среднее')\n",
    "    plt.xlabel('Индекс')\n",
    "    plt.ylabel('Значение')\n",
    "    plt.legend()\n",
    "    plt.grid()\n",
    "    plt.show()\n",
    "\n",
    "    return results\n",
    "\n",
    "time_series_data = [1, 3, 2, 5, 7, 6, 8, 7, 5, 4, 3, 6, 8, 10, 9] # Пример\n",
    "window_size = 3\n",
    "results = analyze_time_series(time_series_data, window_size)"
   ],
   "metadata": {
    "id": "Zb9mIVge5MMt",
    "ExecuteTime": {
     "end_time": "2024-10-10T18:10:49.954472Z",
     "start_time": "2024-10-10T18:10:49.836534Z"
    }
   },
   "outputs": [
    {
     "name": "stdout",
     "output_type": "stream",
     "text": [
      "Математическое ожидание: 5.6\n",
      "Дисперсия: 6.506666666666667\n",
      "Стандартное отклонение: 2.5508168626278653\n",
      "Локальные максимумы (индексы): [ 1  4  6 13], значения: [ 3  7  8 10]\n",
      "Локальные минимумы (индексы): [ 2  5 10], значения: [2 6 3]\n",
      "Скользящее среднее: [2.         3.33333333 4.66666667 6.         7.         7.\n",
      " 6.66666667 5.33333333 4.         4.33333333 5.66666667 8.\n",
      " 9.        ]\n"
     ]
    },
    {
     "data": {
      "text/plain": [
       "<Figure size 1200x600 with 1 Axes>"
      ],
      "image/png": "[encoded data removed]"
     },
     "metadata": {},
     "output_type": "display_data"
    }
   ],
   "execution_count": 31
  },
  {
   "cell_type": "markdown",
   "source": [
    "<h1> Задача 8. Дан некоторый вектор с целочисленными метками классов, напишите функцию, которая выполняет one-hot-encoding для данного вектора\n",
    "<h1> One-hot-encoding - представление, в котором на месте метки некоторого класса стоит 1, в остальных позициях стоит 0. Например для вектора [0, 2, 3, 0] one-hot-encoding выглядит как: [[1, 0, 0, 0], [0, 0, 1, 0], [0, 0, 0, 1], [1, 0, 0, 0]]"
   ],
   "metadata": {
    "id": "jPkylmOX5O9n"
   }
  },
  {
   "cell_type": "code",
   "source": [
    "def one_hot_encoding(labels):\n",
    "    labels = np.array(labels)\n",
    "    num_classes = np.max(labels) + 1\n",
    "\n",
    "    one_hot_encoded = np.zeros((len(labels), num_classes))\n",
    "    one_hot_encoded[np.arange(len(labels)), labels] = 1\n",
    "\n",
    "    return one_hot_encoded\n",
    "\n",
    "labels = [0, 2, 3, 0]\n",
    "one_hot_encoded = one_hot_encoding(labels)\n",
    "\n",
    "print(\"Original:\", labels)\n",
    "print(\"One-hot encoding:\", one_hot_encoded, sep = '\\n')"
   ],
   "metadata": {
    "id": "Y-jlnZvw56lD",
    "ExecuteTime": {
     "end_time": "2024-10-10T18:14:10.036677Z",
     "start_time": "2024-10-10T18:14:10.030001Z"
    }
   },
   "outputs": [
    {
     "name": "stdout",
     "output_type": "stream",
     "text": [
      "Original: [0, 2, 3, 0]\n",
      "One-hot encoding:\n",
      "[[1. 0. 0. 0.]\n",
      " [0. 0. 1. 0.]\n",
      " [0. 0. 0. 1.]\n",
      " [1. 0. 0. 0.]]\n"
     ]
    }
   ],
   "execution_count": 34
  }
 ]
}
