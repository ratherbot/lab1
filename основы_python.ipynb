{
 "nbformat": 4,
 "nbformat_minor": 0,
 "metadata": {
  "colab": {
   "provenance": []
  },
  "kernelspec": {
   "name": "python3",
   "display_name": "Python 3 (ipykernel)",
   "language": "python"
  },
  "language_info": {
   "name": "python"
  }
 },
 "cells": [
  {
   "cell_type": "markdown",
   "source": [
    "#Задача 1\n",
    "Написать функцию на вход которой подается строка, состоящая из латинских букв.\n",
    "Функция должна вернуть количество гласных букв (a, e, i, o, u) в этой строке. Написать тесты для кода"
   ],
   "metadata": {
    "id": "M-DGa20PaHnu"
   }
  },
  {
   "cell_type": "code",
   "source": [
    "import unittest\n",
    "\n",
    "\n",
    "def get_vowels_count(string):\n",
    "    return len([char for char in string.lower() if char in 'aeiou'])\n",
    "\n",
    "class VowelsCounterTest(unittest.TestCase):\n",
    "    def test_only_consonants(self):\n",
    "        res = get_vowels_count('bdfjkl')\n",
    "        self.assertEqual(res, 0)\n",
    "        \n",
    "    def test_one_vowel(self):\n",
    "        res = get_vowels_count('cat')\n",
    "        self.assertEqual(res, 1)\n",
    "        \n",
    "    def test_many_vowels(self):\n",
    "        res = get_vowels_count('attraction')\n",
    "        self.assertEqual(res, 4)\n",
    "        \n",
    "    def test_mixed_case(self):\n",
    "        res = get_vowels_count('AttrACTION')\n",
    "        self.assertEqual(res, 4)\n",
    "        \n",
    "    def test_no_symbols(self):\n",
    "        res = get_vowels_count('')\n",
    "        self.assertEqual(res, 0)\n",
    "\n",
    "suite = unittest.TestLoader().loadTestsFromTestCase(VowelsCounterTest)\n",
    "runner = unittest.TextTestRunner()\n",
    "runner.run(suite)"
   ],
   "metadata": {
    "id": "XvX8X_JJ6PCb",
    "ExecuteTime": {
     "end_time": "2024-10-10T03:20:53.202881Z",
     "start_time": "2024-10-10T03:20:53.193743Z"
    }
   },
   "outputs": [
    {
     "name": "stderr",
     "output_type": "stream",
     "text": [
      ".....\n",
      "----------------------------------------------------------------------\n",
      "Ran 5 tests in 0.003s\n",
      "\n",
      "OK\n"
     ]
    },
    {
     "data": {
      "text/plain": [
       "<unittest.runner.TextTestResult run=5 errors=0 failures=0>"
      ]
     },
     "execution_count": 30,
     "metadata": {},
     "output_type": "execute_result"
    }
   ],
   "execution_count": 30
  },
  {
   "cell_type": "markdown",
   "source": [
    "# Задача 2\n",
    "Написать функцию на вход, которой подается строка. Функция должна вернуть true, если\n",
    "каждый символ в строке встречается только 1 раз, иначе должна вернуть false. Написать тесты для кода"
   ],
   "metadata": {
    "id": "t2ClV_Y0bbr6"
   }
  },
  {
   "cell_type": "code",
   "source": [
    "import unittest\n",
    "\n",
    "\n",
    "def is_all_symbols_different(string):\n",
    "    all_symbols = set(string)\n",
    "    return len(all_symbols) == len(string)\n",
    "\n",
    "class DifferentSymbolsTest(unittest.TestCase):\n",
    "    def test_no_symbols(self):\n",
    "        res = is_all_symbols_different('')\n",
    "        self.assertEqual(res, True)\n",
    "        \n",
    "    def test_one_symbol(self):\n",
    "        res = is_all_symbols_different('a')\n",
    "        self.assertEqual(res, True)\n",
    "        \n",
    "    def test_many_different_symbols(self):\n",
    "        res = is_all_symbols_different('abcdefghijklm')\n",
    "        self.assertEqual(res, True)\n",
    "        \n",
    "    def test_register(self):\n",
    "        res = is_all_symbols_different('bodyBODY')\n",
    "        self.assertEqual(res, True)\n",
    "        \n",
    "    def test_duplicate_characters(self):\n",
    "        res = is_all_symbols_different('ABBA')\n",
    "        self.assertEqual(res, False)\n",
    "        \n",
    "    def test_many_duplicate_characters(self):\n",
    "        res = is_all_symbols_different('ABCDEFGHABCDEFGH')\n",
    "        self.assertEqual(res, False)\n",
    "\n",
    "suite = unittest.TestLoader().loadTestsFromTestCase(DifferentSymbolsTest)\n",
    "runner = unittest.TextTestRunner()\n",
    "runner.run(suite)"
   ],
   "metadata": {
    "id": "FppbECao6VIz",
    "ExecuteTime": {
     "end_time": "2024-10-10T03:22:08.535942Z",
     "start_time": "2024-10-10T03:22:08.523374Z"
    }
   },
   "outputs": [
    {
     "name": "stderr",
     "output_type": "stream",
     "text": [
      "......\n",
      "----------------------------------------------------------------------\n",
      "Ran 6 tests in 0.004s\n",
      "\n",
      "OK\n"
     ]
    },
    {
     "data": {
      "text/plain": [
       "<unittest.runner.TextTestResult run=6 errors=0 failures=0>"
      ]
     },
     "execution_count": 31,
     "metadata": {},
     "output_type": "execute_result"
    }
   ],
   "execution_count": 31
  },
  {
   "cell_type": "markdown",
   "source": [
    "# Задача 3\n",
    "Написать функцию, которая принимает положительное число и возвращает количество\n",
    "бит равных 1 в этом числе. Написать тесты для кода"
   ],
   "metadata": {
    "id": "udRiIK1cdt6E"
   }
  },
  {
   "cell_type": "code",
   "source": [
    "import unittest\n",
    "\n",
    "\n",
    "def get_bits_count(n):\n",
    "    return bin(n).count('1')\n",
    "\n",
    "class BitsCountTest(unittest.TestCase):\n",
    "    def test_one_bit(self):\n",
    "        self.assertEqual(get_bits_count(2), 1)\n",
    "        self.assertEqual(get_bits_count(4), 1)\n",
    "        self.assertEqual(get_bits_count(8), 1)\n",
    "        \n",
    "    def test_two_bits(self):\n",
    "        self.assertEqual(get_bits_count(3), 2)\n",
    "        self.assertEqual(get_bits_count(5), 2)\n",
    "        self.assertEqual(get_bits_count(9), 2)\n",
    "        \n",
    "    def test_many_bits(self):\n",
    "        self.assertEqual(get_bits_count(21), 3)\n",
    "        self.assertEqual(get_bits_count(189), 6)\n",
    "        self.assertEqual(get_bits_count(191), 7)\n",
    "\n",
    "suite = unittest.TestLoader().loadTestsFromTestCase(BitsCountTest)\n",
    "runner = unittest.TextTestRunner()\n",
    "runner.run(suite)"
   ],
   "metadata": {
    "id": "6tkfDJRz6dp_",
    "ExecuteTime": {
     "end_time": "2024-10-10T14:38:40.597369Z",
     "start_time": "2024-10-10T14:38:40.584823Z"
    }
   },
   "outputs": [
    {
     "name": "stderr",
     "output_type": "stream",
     "text": [
      "...\n",
      "----------------------------------------------------------------------\n",
      "Ran 3 tests in 0.002s\n",
      "\n",
      "OK\n"
     ]
    },
    {
     "data": {
      "text/plain": [
       "<unittest.runner.TextTestResult run=3 errors=0 failures=0>"
      ]
     },
     "execution_count": 3,
     "metadata": {},
     "output_type": "execute_result"
    }
   ],
   "execution_count": 3
  },
  {
   "cell_type": "markdown",
   "source": [
    "# Задача 4\n",
    "Написать функцию, которая принимает положительное число. Функция должна вернуть то,\n",
    "сколько раз необходимо перемножать цифры числа или результат перемножения, чтобы\n",
    "получилось число состоящее из одной цифры.\n",
    "Например, для входного числа:\n",
    "· 39 функция должна вернуть 3, так как 3*9=27 => 2*7=14 => 1*4=4\n",
    "· 4 функция должна вернуть 0, так как число уже состоит из одной цифры\n",
    "· 999 функция должна вернуть 4, так как 9*9*9=729 => 7*2*9=126 => 1*2*6=12 =>\n",
    "1*2=2. Написать тесты для кода"
   ],
   "metadata": {
    "id": "26dDUz-Ae17N"
   }
  },
  {
   "cell_type": "code",
   "source": [
    "import unittest\n",
    "\n",
    "\n",
    "def magic(n):\n",
    "    s = str(n)\n",
    "    c = 0\n",
    "    while len(s) > 1:\n",
    "        digits = [int(d) for d in s]\n",
    "        m = 1\n",
    "        for d in digits:\n",
    "            m *= d\n",
    "        c += 1\n",
    "        s = str(m)\n",
    "    return c\n",
    "\n",
    "class MagicTest(unittest.TestCase):\n",
    "    def test_condition_examples(self):\n",
    "        self.assertEqual(magic(39), 3)\n",
    "        self.assertEqual(magic(4), 0)\n",
    "        self.assertEqual(magic(999), 4)\n",
    "        \n",
    "    def test_big_numbers(self):\n",
    "        self.assertEqual(magic(1234), 2)\n",
    "        self.assertEqual(magic(12345), 2)\n",
    "        self.assertEqual(magic(14681468), 4)\n",
    "\n",
    "suite = unittest.TestLoader().loadTestsFromTestCase(MagicTest)\n",
    "runner = unittest.TextTestRunner()\n",
    "runner.run(suite)"
   ],
   "metadata": {
    "id": "BH1A_Mgi6i4G",
    "ExecuteTime": {
     "end_time": "2024-10-10T15:50:50.399572Z",
     "start_time": "2024-10-10T15:50:50.389804Z"
    }
   },
   "outputs": [
    {
     "name": "stderr",
     "output_type": "stream",
     "text": [
      "..\n",
      "----------------------------------------------------------------------\n",
      "Ran 2 tests in 0.001s\n",
      "\n",
      "OK\n"
     ]
    },
    {
     "data": {
      "text/plain": [
       "<unittest.runner.TextTestResult run=2 errors=0 failures=0>"
      ]
     },
     "execution_count": 21,
     "metadata": {},
     "output_type": "execute_result"
    }
   ],
   "execution_count": 21
  },
  {
   "cell_type": "markdown",
   "source": [
    "# Задача 5\n",
    "Написать функцию, которая принимает два целочисленных вектора одинаковой длины и\n",
    "возвращает среднеквадратическое отклонение двух векторов. Написать тесты для кода"
   ],
   "metadata": {
    "id": "0nS-kIa8g8vd"
   }
  },
  {
   "cell_type": "code",
   "source": [
    "import unittest\n",
    "\n",
    "\n",
    "def mse(v1, v2):\n",
    "    if len(v1) != len(v2):\n",
    "        raise ValueError(\"Ошибка! Векторы имеют разную длину\")\n",
    "    \n",
    "    n = len(v1)\n",
    "    squared_differences = [(x - y) ** 2 for x, y in zip(v1, v2)]\n",
    "    mean_squared_difference = sum(squared_differences) / n\n",
    "    return mean_squared_difference ** 0.5\n",
    "\n",
    "class MSETest(unittest.TestCase):\n",
    "    def test_equal_vectors(self):\n",
    "        self.assertEqual(mse([1, 2, 3], [1, 2, 3]), 0.0)\n",
    "    \n",
    "    def test_simple_difference(self):\n",
    "        self.assertAlmostEqual(mse([1, 2, 3], [4, 5, 6]), 3.0, places=9)\n",
    "    \n",
    "    def test_negative_numbers(self):\n",
    "        self.assertAlmostEqual(mse([-1, -2, -3], [-4, -5, -6]), 3.0, places=9)\n",
    "    \n",
    "    def test_float_numbers(self):\n",
    "        self.assertAlmostEqual(mse([1.5, 2.5, 3.5], [1.0, 2.0, 3.0]), 0.5, places=9)\n",
    "    \n",
    "    def test_zero_vectors(self):\n",
    "        self.assertAlmostEqual(mse([0, 0, 0], [0, 0, 0]), 0.0, places=9)\n",
    "    \n",
    "    def test_different_length_vectors(self):\n",
    "        with self.assertRaises(ValueError):\n",
    "            mse([1, 2, 3], [1, 2])\n",
    "\n",
    "suite = unittest.TestLoader().loadTestsFromTestCase(MSETest)\n",
    "runner = unittest.TextTestRunner()\n",
    "runner.run(suite)"
   ],
   "metadata": {
    "id": "8iphx4LM6xbx",
    "ExecuteTime": {
     "end_time": "2024-10-10T16:51:11.299704Z",
     "start_time": "2024-10-10T16:51:11.285149Z"
    }
   },
   "outputs": [
    {
     "name": "stderr",
     "output_type": "stream",
     "text": [
      "......\n",
      "----------------------------------------------------------------------\n",
      "Ran 6 tests in 0.004s\n",
      "\n",
      "OK\n"
     ]
    },
    {
     "data": {
      "text/plain": [
       "<unittest.runner.TextTestResult run=6 errors=0 failures=0>"
      ]
     },
     "execution_count": 33,
     "metadata": {},
     "output_type": "execute_result"
    }
   ],
   "execution_count": 33
  },
  {
   "cell_type": "markdown",
   "source": [
    "# Задача 6\n",
    "Написать функцию, принимающая целое положительное число. Функция должна вернуть\n",
    "строку вида “(n1**p1)(n2**p2)…(nk**pk)” представляющая разложение числа на простые\n",
    "множители (если pi == 1, то выводить только ni).\n",
    "Например, для числа 86240 функция должна вернуть “(2**5)(5)(7**2)(11)”. Написать тесты для кода"
   ],
   "metadata": {
    "id": "vpIPKL439zkw"
   }
  },
  {
   "cell_type": "code",
   "source": [
    "import unittest\n",
    "\n",
    "\n",
    "def prime_factorize(n):\n",
    "    factors = {}\n",
    "    divisor = 2\n",
    "\n",
    "    while n > 1:\n",
    "        count = 0\n",
    "        while n % divisor == 0:\n",
    "            n //= divisor\n",
    "            count += 1\n",
    "        if count > 0:\n",
    "            factors[divisor] = count\n",
    "        divisor += 1\n",
    "\n",
    "    result = []\n",
    "    for factor, power in sorted(factors.items()):\n",
    "        if power == 1:\n",
    "            result.append(f\"({factor})\")\n",
    "        else:\n",
    "            result.append(f\"({factor}**{power})\")\n",
    "    \n",
    "    return ''.join(result)\n",
    "\n",
    "class PrimeFactorizeTest(unittest.TestCase):\n",
    "    def test_example(self):\n",
    "        self.assertEqual(prime_factorize(86240), \"(2**5)(5)(7**2)(11)\")\n",
    "        \n",
    "    def test_prime_numbers(self):\n",
    "        self.assertEqual(prime_factorize(11), \"(11)\")\n",
    "        self.assertEqual(prime_factorize(13), \"(13)\")\n",
    "        self.assertEqual(prime_factorize(17), \"(17)\")\n",
    "        \n",
    "    def test_one_multiplier_large_extent(self):\n",
    "        self.assertEqual(prime_factorize(27), \"(3**3)\")\n",
    "        self.assertEqual(prime_factorize(128), \"(2**7)\")\n",
    "        self.assertEqual(prime_factorize(268435456), \"(2**28)\")\n",
    "    \n",
    "    def test_many_multipliers(self):\n",
    "        self.assertEqual(prime_factorize(100), \"(2**2)(5**2)\")\n",
    "        self.assertEqual(prime_factorize(360), \"(2**3)(3**2)(5)\")\n",
    "        self.assertEqual(prime_factorize(3276), \"(2**2)(3**2)(7)(13)\")\n",
    "\n",
    "suite = unittest.TestLoader().loadTestsFromTestCase(PrimeFactorizeTest)\n",
    "runner = unittest.TextTestRunner()\n",
    "runner.run(suite)"
   ],
   "metadata": {
    "id": "pFebmcZk94Jw",
    "ExecuteTime": {
     "end_time": "2024-10-10T16:36:45.046700Z",
     "start_time": "2024-10-10T16:36:45.033691Z"
    }
   },
   "outputs": [
    {
     "name": "stderr",
     "output_type": "stream",
     "text": [
      "....\n",
      "----------------------------------------------------------------------\n",
      "Ran 4 tests in 0.003s\n",
      "\n",
      "OK\n"
     ]
    },
    {
     "data": {
      "text/plain": [
       "<unittest.runner.TextTestResult run=4 errors=0 failures=0>"
      ]
     },
     "execution_count": 29,
     "metadata": {},
     "output_type": "execute_result"
    }
   ],
   "execution_count": 29
  },
  {
   "cell_type": "markdown",
   "source": [
    "# Задача 7\n",
    "Написать функцию, принимающая целое число n, задающее количество кубиков. Функция\n",
    "должна определить, можно ли из данного кол-ва кубиков построить пирамиду, то есть\n",
    "можно ли представить число n как 1^2+2^2+3^2+…+k^2. Если можно, то функция должна\n",
    "вернуть k, иначе строку “It is impossible”. Написать тесты для кода"
   ],
   "metadata": {
    "id": "ps2s0BudX7A2"
   }
  },
  {
   "cell_type": "code",
   "source": [
    "import unittest\n",
    "\n",
    "\n",
    "def pyramid(n):\n",
    "    sum_of_squares = 0\n",
    "    k = 0\n",
    "    \n",
    "    while sum_of_squares < n:\n",
    "        k += 1\n",
    "        sum_of_squares += k ** 2\n",
    "\n",
    "    if sum_of_squares == n:\n",
    "        return k\n",
    "    else:\n",
    "        return \"It is impossible\"\n",
    "    \n",
    "class PyramidTest(unittest.TestCase):\n",
    "    def test_has_pyramid(self):\n",
    "        self.assertEqual(pyramid(1), 1)\n",
    "        self.assertEqual(pyramid(5), 2)\n",
    "        self.assertEqual(pyramid(14), 3)\n",
    "        \n",
    "    def test_has_not_pyramid(self):\n",
    "        self.assertEqual(pyramid(2), \"It is impossible\")\n",
    "        self.assertEqual(pyramid(3), \"It is impossible\")\n",
    "        self.assertEqual(pyramid(4), \"It is impossible\")\n",
    "        \n",
    "suite = unittest.TestLoader().loadTestsFromTestCase(PyramidTest)\n",
    "runner = unittest.TextTestRunner()\n",
    "runner.run(suite)"
   ],
   "metadata": {
    "id": "3YPjEXxhX_YT",
    "ExecuteTime": {
     "end_time": "2024-10-10T15:55:01.032337Z",
     "start_time": "2024-10-10T15:55:01.022762Z"
    }
   },
   "outputs": [
    {
     "name": "stderr",
     "output_type": "stream",
     "text": [
      "..\n",
      "----------------------------------------------------------------------\n",
      "Ran 2 tests in 0.001s\n",
      "\n",
      "OK\n"
     ]
    },
    {
     "data": {
      "text/plain": [
       "<unittest.runner.TextTestResult run=2 errors=0 failures=0>"
      ]
     },
     "execution_count": 24,
     "metadata": {},
     "output_type": "execute_result"
    }
   ],
   "execution_count": 24
  },
  {
   "cell_type": "markdown",
   "source": [
    "# Задача 8\n",
    "Функция принимает на вход положительное число и определяет является ли оно сбалансированным, т.е. сумма цифр до средних равна сумме цифр после. Средними в случае нечетного числа цифр считать одну цифру, в случае четного - две средних. Написать тесты для кода"
   ],
   "metadata": {
    "id": "KeKgmIdAQMEJ"
   }
  },
  {
   "cell_type": "code",
   "source": [
    "import unittest\n",
    "\n",
    "\n",
    "def is_balanced_n(n):\n",
    "    digits = str(n)\n",
    "    length = len(digits)\n",
    "    \n",
    "    if length == 1:\n",
    "        return True\n",
    "    if length % 2 == 0:\n",
    "        l_part = digits[:length // 2 - 1]\n",
    "        r_part = digits[length // 2 + 1:]\n",
    "    else:\n",
    "        l_part = digits[:length // 2]\n",
    "        r_part = digits[length // 2 + 1:]\n",
    "\n",
    "    l_sum = sum([int(n) for n in l_part])\n",
    "    r_sum = sum([int(n) for n in r_part])\n",
    "    \n",
    "    return l_sum == r_sum\n",
    "\n",
    "class BalancedNumberTest(unittest.TestCase):\n",
    "    def test_one_digit_number(self):\n",
    "        self.assertEqual(is_balanced_n(1), True)\n",
    "        self.assertEqual(is_balanced_n(2), True)\n",
    "        self.assertEqual(is_balanced_n(3), True)\n",
    "        \n",
    "    def test_two_digits_number(self):\n",
    "        self.assertEqual(is_balanced_n(10), True)\n",
    "        self.assertEqual(is_balanced_n(11), True)\n",
    "        self.assertEqual(is_balanced_n(12), True)\n",
    "        \n",
    "    def test_three_digits_number(self):\n",
    "        self.assertEqual(is_balanced_n(100), False)\n",
    "        self.assertEqual(is_balanced_n(101), True)\n",
    "        self.assertEqual(is_balanced_n(999), True)\n",
    "    \n",
    "    def test_many_digits_number(self):\n",
    "        self.assertEqual(is_balanced_n(100001), True)\n",
    "        self.assertEqual(is_balanced_n(123456789), False)\n",
    "        self.assertEqual(is_balanced_n(888000888), True)\n",
    "\n",
    "suite = unittest.TestLoader().loadTestsFromTestCase(BalancedNumberTest)\n",
    "runner = unittest.TextTestRunner()\n",
    "runner.run(suite)"
   ],
   "metadata": {
    "id": "gMAAqtqlQrZt",
    "ExecuteTime": {
     "end_time": "2024-10-10T15:30:51.402073Z",
     "start_time": "2024-10-10T15:30:51.388598Z"
    }
   },
   "outputs": [
    {
     "name": "stderr",
     "output_type": "stream",
     "text": [
      "....\n",
      "----------------------------------------------------------------------\n",
      "Ran 4 tests in 0.003s\n",
      "\n",
      "OK\n"
     ]
    },
    {
     "data": {
      "text/plain": [
       "<unittest.runner.TextTestResult run=4 errors=0 failures=0>"
      ]
     },
     "execution_count": 19,
     "metadata": {},
     "output_type": "execute_result"
    }
   ],
   "execution_count": 19
  }
 ]
}
